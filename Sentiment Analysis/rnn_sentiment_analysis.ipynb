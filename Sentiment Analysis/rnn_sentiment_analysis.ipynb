{
 "cells": [
  {
   "cell_type": "markdown",
   "metadata": {},
   "source": [
    "# Sentiment Analysis Part 2\n",
    "\n",
    "_Natural Langauge Processing Nanodegree Program_\n",
    "\n",
    "---\n",
    "\n"
   ]
  },
  {
   "cell_type": "markdown",
   "metadata": {},
   "source": [
    "## Step 5: Switching gears - RNNs\n",
    "\n",
    "We just saw how the task of sentiment analysis can be solved via a traditional machine learning approach: BoW + a nonlinear classifier. We now switch gears and use Recurrent Neural Networks, and in particular LSTMs, to perform sentiment analysis in Keras. Conveniently, Keras has a built-in [IMDb movie reviews dataset](https://keras.io/datasets/#imdb-movie-reviews-sentiment-classification) that we can use, with the same vocabulary size."
   ]
  },
  {
   "cell_type": "code",
   "execution_count": 15,
   "metadata": {},
   "outputs": [
    {
     "name": "stdout",
     "output_type": "stream",
     "text": [
      "Loaded dataset with 25000 training samples, 25000 test samples\n"
     ]
    }
   ],
   "source": [
    "from keras.datasets import imdb  # import the built-in imdb dataset in Keras\n",
    "\n",
    "# Set the vocabulary size\n",
    "vocabulary_size = 5000\n",
    "\n",
    "# Load in training and test data (note the difference in convention compared to scikit-learn)\n",
    "(X_train, y_train), (X_test, y_test) = imdb.load_data(num_words=vocabulary_size)\n",
    "print(\"Loaded dataset with {} training samples, {} test samples\".format(len(X_train), len(X_test)))"
   ]
  },
  {
   "cell_type": "code",
   "execution_count": 16,
   "metadata": {},
   "outputs": [
    {
     "name": "stdout",
     "output_type": "stream",
     "text": [
      "--- Review ---\n",
      "[1, 13, 197, 14, 16, 6, 389, 96, 8, 1142, 58, 23, 6, 99, 893, 1506, 2480, 1266, 11, 4, 945, 2, 750, 5, 149, 6, 641, 2287, 212, 4, 114, 9, 4274, 21, 4, 414, 9, 1920, 5, 4, 105, 26, 1451, 60, 4, 73, 2, 2, 1435, 455, 137, 49, 203, 30, 685, 54, 36, 923, 14, 9, 24, 1014, 213, 241, 2960, 2, 13, 197, 12, 16, 3170, 15, 2292, 1602, 9, 131, 1314, 11, 1140, 7, 4, 405, 111, 7, 178, 28, 2071, 8, 119, 10, 10, 14, 16, 4, 91, 474, 1498, 33, 31, 7, 2, 1290, 11, 153, 3328, 13, 135, 6, 2068, 137, 207, 115, 77, 1555, 19, 2, 2, 11, 14, 59, 1319, 8, 1163, 180, 41, 1279, 1459, 5, 4584, 208, 83, 6, 856, 21, 3649, 185, 255, 10, 10, 14, 203, 24, 30, 4, 2, 2, 7, 27, 611, 21, 12, 16, 2, 74, 2113, 2899, 2, 5, 53, 221, 74, 1832, 6, 87, 212, 8, 140, 67, 19, 369]\n",
      "--- Label ---\n",
      "1\n"
     ]
    }
   ],
   "source": [
    "# Inspect a sample review and its label\n",
    "print(\"--- Review ---\")\n",
    "print(X_train[7])\n",
    "print(\"--- Label ---\")\n",
    "print(y_train[7])"
   ]
  },
  {
   "cell_type": "markdown",
   "metadata": {},
   "source": [
    "Notice that the label is an integer (0 for negative, 1 for positive), and the review itself is stored as a sequence of integers. These are word IDs that have been preassigned to individual words. To map them back to the original words, you can use the dictionary returned by `imdb.get_word_index()`."
   ]
  },
  {
   "cell_type": "code",
   "execution_count": 17,
   "metadata": {},
   "outputs": [
    {
     "name": "stdout",
     "output_type": "stream",
     "text": [
      "--- Review (with words) ---\n",
      "['the', 'was', 'between', 'as', 'with', 'is', 'small', 'too', 'in', 'zombies', 'my', 'are', 'is', 'movies', 'baby', 'porn', 'mainstream', 'week', 'this', 'of', 'creepy', 'and', 'dull', 'to', \"doesn't\", 'is', 'usual', 'involves', 'must', 'of', 'little', 'it', 'eighties', 'not', 'of', 'finally', 'it', 'mine', 'to', 'of', 'films', 'he', 'falling', 'which', 'of', 'much', 'and', 'and', 'emotions', 'direction', 'go', 'good', 'action', 'at', 'due', 'no', 'from', 'society', 'as', 'it', 'his', 'expecting', 'come', 'am', 'essential', 'and', 'was', 'between', 'that', 'with', 'lying', 'for', 'k', 'quick', 'it', 'these', 'key', 'this', 'band', 'br', 'of', 'gives', 'plot', 'br', 'want', 'one', 'boat', 'in', 'did', 'i', 'i', 'as', 'with', 'of', 'its', 'final', 'mediocre', 'they', 'by', 'br', 'and', 'beautifully', 'this', 'actors', 'trade', 'was', 'why', 'is', 'grown', 'go', 'always', 'best', 'will', 'ugly', 'film', 'and', 'and', 'this', 'as', 'would', 'laughable', 'in', 'amount', 'things', 'about', 'nowhere', 'everybody', 'to', 'steel', 'times', 'first', 'is', 'forget', 'not', 'flynn', 'got', 'found', 'i', 'i', 'as', 'action', 'his', 'at', 'of', 'and', 'and', 'br', 'be', 'possible', 'not', 'that', 'with', 'and', 'been', 'passed', 'authentic', 'and', 'to', 'up', 'done', 'been', 'nonsense', 'is', 'him', 'must', 'in', 'through', 'can', 'film', 'women']\n",
      "--- Label ---\n",
      "1\n"
     ]
    }
   ],
   "source": [
    "# Map word IDs back to words\n",
    "word2id = imdb.get_word_index()\n",
    "id2word = {i: word for word, i in word2id.items()}\n",
    "print(\"--- Review (with words) ---\")\n",
    "print([id2word.get(i, \" \") for i in X_train[7]])\n",
    "print(\"--- Label ---\")\n",
    "print(y_train[7])"
   ]
  },
  {
   "cell_type": "code",
   "execution_count": 12,
   "metadata": {},
   "outputs": [
    {
     "name": "stdout",
     "output_type": "stream",
     "text": [
      "11 2494\n"
     ]
    }
   ],
   "source": [
    "min_words, max_words = len(X_train),0\n",
    "for words in X_train:\n",
    "    if len(words)<min_words:\n",
    "        min_words = len(words)\n",
    "    if len(words)>max_words:\n",
    "        max_words = len(words)\n",
    "print(min_words, max_words)"
   ]
  },
  {
   "cell_type": "markdown",
   "metadata": {},
   "source": [
    "Unlike our Bag-of-Words approach, where we simply summarized the counts of each word in a document, this representation essentially retains the entire sequence of words (minus punctuation, stopwords, etc.). This is critical for RNNs to function. But it also means that now the features can be of different lengths!\n",
    "\n",
    "#### Question: Variable length reviews\n",
    "\n",
    "What is the maximum review length (in terms of number of words) in the training set? What is the minimum?\n",
    "\n",
    "#### Answer:\n",
    "\n",
    "minimum: 11\n",
    "maximum: 2494\n",
    "\n",
    "\n",
    "### TODO: Pad sequences\n",
    "\n",
    "In order to feed this data into your RNN, all input documents must have the same length. Let's limit the maximum review length to `max_words` by truncating longer reviews and padding shorter reviews with a null value (0). You can accomplish this easily using the [`pad_sequences()`](https://keras.io/preprocessing/sequence/#pad_sequences) function in Keras. For now, set `max_words` to 500."
   ]
  },
  {
   "cell_type": "code",
   "execution_count": 18,
   "metadata": {},
   "outputs": [],
   "source": [
    "from keras.preprocessing import sequence\n",
    "\n",
    "# Set the maximum number of words per document (for both training and testing)\n",
    "max_words = 500\n",
    "\n",
    "# TODO: Pad sequences in X_train and X_test\n",
    "X_train = sequence.pad_sequences(X_train, maxlen=max_words)\n",
    "X_test = sequence.pad_sequences(X_test, maxlen=max_words)"
   ]
  },
  {
   "cell_type": "markdown",
   "metadata": {},
   "source": [
    "### TODO: Design an RNN model for sentiment analysis\n",
    "\n",
    "Build your model architecture in the code cell below. We have imported some layers from Keras that you might need but feel free to use any other layers / transformations you like.\n",
    "\n",
    "Remember that your input is a sequence of words (technically, integer word IDs) of maximum length = `max_words`, and your output is a binary sentiment label (0 or 1)."
   ]
  },
  {
   "cell_type": "code",
   "execution_count": 20,
   "metadata": {},
   "outputs": [
    {
     "name": "stdout",
     "output_type": "stream",
     "text": [
      "_________________________________________________________________\n",
      "Layer (type)                 Output Shape              Param #   \n",
      "=================================================================\n",
      "embedding_2 (Embedding)      (None, 500, 32)           160000    \n",
      "_________________________________________________________________\n",
      "dropout_1 (Dropout)          (None, 500, 32)           0         \n",
      "_________________________________________________________________\n",
      "lstm_1 (LSTM)                (None, 100)               53200     \n",
      "_________________________________________________________________\n",
      "dropout_2 (Dropout)          (None, 100)               0         \n",
      "_________________________________________________________________\n",
      "dense_1 (Dense)              (None, 1)                 101       \n",
      "=================================================================\n",
      "Total params: 213,301\n",
      "Trainable params: 213,301\n",
      "Non-trainable params: 0\n",
      "_________________________________________________________________\n",
      "None\n"
     ]
    }
   ],
   "source": [
    "from keras.models import Sequential\n",
    "from keras.layers import Embedding, LSTM, Dense, Dropout\n",
    "\n",
    "# TODO: Design your model\n",
    "embedding_size = 32\n",
    "model = Sequential()\n",
    "model.add(Embedding(vocabulary_size, embedding_size, input_length=max_words))\n",
    "model.add(Dropout(0.2))\n",
    "model.add(LSTM(100))\n",
    "model.add(Dropout(0.1))\n",
    "model.add(Dense(1,activation='sigmoid'))\n",
    "\n",
    "print(model.summary())"
   ]
  },
  {
   "cell_type": "markdown",
   "metadata": {},
   "source": [
    "#### Question: Architecture and parameters\n",
    "\n",
    "Briefly describe your neural net architecture. How many model parameters does it have that need to be trained?\n",
    "\n",
    "#### Answer:\n",
    "\n",
    "The RNN-LSTM model is structured as three-layered. At first, Embedding layer imports inputs of 160,000 params (500*32) with Dropout late of 0.2. Second layer is the core of the morel, LSTM, which takes additional 53,000 params. Finally, dense layer for output is added.\n",
    "\n",
    "### TODO: Train and evaluate your model\n",
    "\n",
    "Now you are ready to train your model. In Keras world, you first need to _compile_ your model by specifying the loss function and optimizer you want to use while training, as well as any evaluation metrics you'd like to measure. Specify the approprate parameters, including at least one metric `'accuracy'`."
   ]
  },
  {
   "cell_type": "code",
   "execution_count": 21,
   "metadata": {},
   "outputs": [],
   "source": [
    "# TODO: Compile your model, specifying a loss function, optimizer, and metrics\n",
    "model.compile(loss='binary_crossentropy',optimizer='adam',metrics=['accuracy'])"
   ]
  },
  {
   "cell_type": "markdown",
   "metadata": {},
   "source": [
    "Once compiled, you can kick off the training process. There are two important training parameters that you have to specify - **batch size** and **number of training epochs**, which together with your model architecture determine the total training time.\n",
    "\n",
    "Training may take a while, so grab a cup of coffee, or better, go for a hike! If possible, consider using a GPU, as a single training run can take several hours on a CPU.\n",
    "\n",
    "> **Tip**: You can split off a small portion of the training set to be used for validation during training. This will help monitor the training process and identify potential overfitting. You can supply a validation set to `model.fit()` using its `validation_data` parameter, or just specify `validation_split` - a fraction of the training data for Keras to set aside for this purpose (typically 5-10%). Validation metrics are evaluated once at the end of each epoch."
   ]
  },
  {
   "cell_type": "code",
   "execution_count": 22,
   "metadata": {},
   "outputs": [
    {
     "name": "stdout",
     "output_type": "stream",
     "text": [
      "Train on 24936 samples, validate on 64 samples\n",
      "Epoch 1/10\n",
      "24936/24936 [==============================] - 550s 22ms/step - loss: 0.4692 - acc: 0.7688 - val_loss: 0.4518 - val_acc: 0.8594\n",
      "Epoch 2/10\n",
      "24936/24936 [==============================] - 553s 22ms/step - loss: 0.3491 - acc: 0.8536 - val_loss: 0.2955 - val_acc: 0.8750\n",
      "Epoch 3/10\n",
      "24936/24936 [==============================] - 547s 22ms/step - loss: 0.2515 - acc: 0.9014 - val_loss: 0.3147 - val_acc: 0.9062\n",
      "Epoch 4/10\n",
      "24936/24936 [==============================] - 542s 22ms/step - loss: 0.2262 - acc: 0.9141 - val_loss: 0.4473 - val_acc: 0.8438\n",
      "Epoch 5/10\n",
      "24936/24936 [==============================] - 540s 22ms/step - loss: 0.2025 - acc: 0.9232 - val_loss: 0.3346 - val_acc: 0.8594\n",
      "Epoch 6/10\n",
      "24936/24936 [==============================] - 551s 22ms/step - loss: 0.1774 - acc: 0.9329 - val_loss: 0.2848 - val_acc: 0.8438\n",
      "Epoch 7/10\n",
      "24936/24936 [==============================] - 555s 22ms/step - loss: 0.1697 - acc: 0.9362 - val_loss: 0.3081 - val_acc: 0.8750\n",
      "Epoch 8/10\n",
      "24936/24936 [==============================] - 550s 22ms/step - loss: 0.1531 - acc: 0.9442 - val_loss: 0.3245 - val_acc: 0.8906\n",
      "Epoch 9/10\n",
      "24936/24936 [==============================] - 549s 22ms/step - loss: 0.1461 - acc: 0.9460 - val_loss: 0.3540 - val_acc: 0.8594\n",
      "Epoch 10/10\n",
      "24936/24936 [==============================] - 547s 22ms/step - loss: 0.1227 - acc: 0.9554 - val_loss: 0.4402 - val_acc: 0.8906\n"
     ]
    },
    {
     "data": {
      "text/plain": [
       "<keras.callbacks.History at 0x7f967c881390>"
      ]
     },
     "execution_count": 22,
     "metadata": {},
     "output_type": "execute_result"
    }
   ],
   "source": [
    "# TODO: Specify training parameters: batch size and number of epochs\n",
    "batch_size = 64\n",
    "num_epochs = 10\n",
    "\n",
    "# TODO(optional): Reserve/specify some training data for validation (not to be used for training)\n",
    "X_valid, y_valid = X_train[:batch_size], y_train[:batch_size]\n",
    "X_train2, y_train2 = X_train[batch_size:], y_train[batch_size:]\n",
    "\n",
    "# TODO: Train your model\n",
    "model.fit(X_train2, y_train2, validation_data = (X_valid,y_valid), batch_size=batch_size, epochs=num_epochs)"
   ]
  },
  {
   "cell_type": "code",
   "execution_count": 26,
   "metadata": {},
   "outputs": [],
   "source": [
    "import os\n",
    "cache_dir = os.path.join(\"cache\", \"sentiment_analysis\")  # where to store cache files\n",
    "os.makedirs(cache_dir, exist_ok=True)\n",
    "\n",
    "# Save your model, so that you can quickly load it in future (and perhaps resume training)\n",
    "model_file = \"rnn_model.h5\"  # HDF5 file\n",
    "model.save(os.path.join(cache_dir, model_file))\n",
    "\n",
    "# Later you can load it using keras.models.load_model()\n",
    "#from keras.models import load_model\n",
    "#model = load_model(os.path.join(cache_dir, model_file))"
   ]
  },
  {
   "cell_type": "markdown",
   "metadata": {},
   "source": [
    "Once you have trained your model, it's time to see how well it performs on unseen test data."
   ]
  },
  {
   "cell_type": "code",
   "execution_count": 27,
   "metadata": {},
   "outputs": [
    {
     "name": "stdout",
     "output_type": "stream",
     "text": [
      "Test accuracy: 0.86708\n"
     ]
    }
   ],
   "source": [
    "# Evaluate your model on the test set\n",
    "scores = model.evaluate(X_test, y_test, verbose=0)  # returns loss and other metrics specified in model.compile()\n",
    "print(\"Test accuracy:\", scores[1])  # scores[1] should correspond to accuracy if you passed in metrics=['accuracy']"
   ]
  },
  {
   "cell_type": "markdown",
   "metadata": {},
   "source": [
    "#### Question: Comparing RNNs and Traditional Methods\n",
    "\n",
    "How well does your RNN model perform compared to the BoW + Gradient-Boosted Decision Trees?\n",
    "\n",
    "#### Answer:\n",
    "\n",
    "BoW: 0.81\n",
    "RNN: 0.87\n",
    "\n",
    "## Extensions\n",
    "\n",
    "There are several ways in which you can build upon this notebook. Each comes with its set of challenges, but can be a rewarding experience.\n",
    "\n",
    "- The first thing is to try and improve the accuracy of your model by experimenting with different architectures, layers and parameters. How good can you get without taking prohibitively long to train? How do you prevent overfitting?\n",
    "\n",
    "- Then, you may want to deploy your model as a mobile app or web service. What do you need to do in order to package your model for such deployment? How would you accept a new review, convert it into a form suitable for your model, and perform the actual prediction? (Note that the same environment you used during training may not be available.)\n",
    "\n",
    "- One simplification we made in this notebook is to limit the task to binary classification. The dataset actually includes a more fine-grained review rating that is indicated in each review's filename (which is of the form `<[id]_[rating].txt>` where `[id]` is a unique identifier and `[rating]` is on a scale of 1-10; note that neutral reviews > 4 or < 7 have been excluded). How would you modify the notebook to perform regression on the review ratings? In what situations is regression more useful than classification, and vice-versa?\n",
    "\n",
    "Whatever direction you take, make sure to share your results and learnings with your peers, through blogs, discussions and participating in online competitions. This is also a great way to become more visible to potential employers!"
   ]
  },
  {
   "cell_type": "code",
   "execution_count": null,
   "metadata": {
    "collapsed": true
   },
   "outputs": [],
   "source": []
  }
 ],
 "metadata": {
  "kernelspec": {
   "display_name": "Python 3",
   "language": "python",
   "name": "python3"
  },
  "language_info": {
   "codemirror_mode": {
    "name": "ipython",
    "version": 3
   },
   "file_extension": ".py",
   "mimetype": "text/x-python",
   "name": "python",
   "nbconvert_exporter": "python",
   "pygments_lexer": "ipython3",
   "version": "3.6.3"
  }
 },
 "nbformat": 4,
 "nbformat_minor": 2
}
